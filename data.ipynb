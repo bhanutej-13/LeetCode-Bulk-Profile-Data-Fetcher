import requests
import pandas as pd
import matplotlib.pyplot as plt

def fetch_user_data(username):
    url = "https://leetcode.com/graphql"
    headers = {'Content-Type': 'application/json'}
    query = """
    query getUserProfile($username: String!) {
      matchedUser(username: $username) {
        username
        profile {
          ranking
          userAvatar
          realName
        }
        submitStats {
          acSubmissionNum {
            difficulty
            count
          }
        }
        badges {
          displayName
          icon
        }
      }
    }
    """
    variables = {"username": username}
    response = requests.post(url, headers=headers, json={'query': query, 'variables': variables})
    if response.status_code == 200:
        return response.json()
    else:
        print(f"Failed to fetch data for {username}, Status Code: {response.status_code}")
        return None

def extract_data(user_info):
    user = user_info.get('data', {}).get('matchedUser', None)
    if not user:
        return None

    username = user.get('username', 'N/A')
    ranking = user.get('profile', {}).get('ranking', 'N/A')
    real_name = user.get('profile', {}).get('realName', 'N/A')
    problems_solved = {difficulty['difficulty'].lower(): difficulty['count']
                       for difficulty in user.get('submitStats', {}).get('acSubmissionNum', [])}
    badges = [badge['displayName'] for badge in user.get('badges', [])]
    
    return {
        'Username': username,
        'Ranking': ranking,
        'Real Name': real_name,
        'Easy Solved': problems_solved.get('easy', 0),
        'Medium Solved': problems_solved.get('medium', 0),
        'Hard Solved': problems_solved.get('hard', 0),
        'Badges': ', '.join(badges)
    }

def display_data(data, output_file='out.csv'):
    if data:
        df = pd.DataFrame(data)
        print(df)
        df.to_csv(output_file, index=False)
        print(f"Data saved to {output_file}")
        return df
    else:
        print("No data to display.")
        return None

def rank_repository_users(df):
    df['Total Solved'] = df['Easy Solved'] + df['Medium Solved'] + df['Hard Solved']
    ranked_df = df.sort_values(by='Total Solved', ascending=False)
    print("\nRanked Users Based on Total Problems Solved:\n", ranked_df)
    return ranked_df

def visualize_top_users(df, output_file='top_30_users.png', top_n=30):
    df['Ranking'] = pd.to_numeric(df['Ranking'], errors='coerce').fillna(0).astype(int)
    top_users = df.head(top_n)
    top_users.set_index('Username')['Total Solved'].plot(kind='bar', title=f'Top {top_n} Users by Total Problems Solved', ylabel='Total Problems Solved', xlabel='User', figsize=(10, 6))
    plt.tight_layout()
    plt.savefig(output_file)
    plt.show()
    print(f"Top {top_n} users visualization saved to {output_file}")

def process_usernames_from_excel(input_file, sheet_name='Sheet1', output_file='out.csv'):
    df = pd.read_excel(input_file, sheet_name=sheet_name)
    usernames = df.iloc[:, 0].str.strip().str.replace(r'\n', '', regex=True).tolist()

    data = []
    for username in usernames:
        user_info = fetch_user_data(username)
        if user_info:
            result = extract_data(user_info)
            if result:  # Ensure we have valid data
                data.append(result)

    df = display_data(data, output_file)
    if df is not None:
        ranked_df = rank_repository_users(df)
        visualize_top_users(ranked_df)

if __name__ == "__main__":
    input_file = 'Leetcode_users.xlsx'  # Replace with your Excel file name
    process_usernames_from_excel(input_file)
